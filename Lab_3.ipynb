{
 "cells": [
  {
   "cell_type": "code",
   "execution_count": 274,
   "metadata": {},
   "outputs": [],
   "source": [
    "import numpy as np\n",
    "import matplotlib.pyplot as plt\n",
    "import pandas as pd\n",
    "import seaborn as sns\n",
    "from sklearn.model_selection import train_test_split\n",
    "from sklearn.preprocessing import StandardScaler"
   ]
  },
  {
   "attachments": {},
   "cell_type": "markdown",
   "metadata": {},
   "source": [
    "1. Повнозв'язані нейронні мережі.\n",
    "Вирішіть завдання класифікації даних, з якими ви працювали в лабораторній № 1 за допомогою повнозв’язаної нейромережі прямого поширення (fully connected feed-forward network). Результати порівняйте з одержаними раніше. "
   ]
  },
  {
   "cell_type": "code",
   "execution_count": 275,
   "metadata": {},
   "outputs": [
    {
     "data": {
      "text/html": [
       "<div>\n",
       "<style scoped>\n",
       "    .dataframe tbody tr th:only-of-type {\n",
       "        vertical-align: middle;\n",
       "    }\n",
       "\n",
       "    .dataframe tbody tr th {\n",
       "        vertical-align: top;\n",
       "    }\n",
       "\n",
       "    .dataframe thead th {\n",
       "        text-align: right;\n",
       "    }\n",
       "</style>\n",
       "<table border=\"1\" class=\"dataframe\">\n",
       "  <thead>\n",
       "    <tr style=\"text-align: right;\">\n",
       "      <th></th>\n",
       "      <th>time</th>\n",
       "      <th>trt</th>\n",
       "      <th>age</th>\n",
       "      <th>wtkg</th>\n",
       "      <th>hemo</th>\n",
       "      <th>homo</th>\n",
       "      <th>drugs</th>\n",
       "      <th>karnof</th>\n",
       "      <th>oprior</th>\n",
       "      <th>z30</th>\n",
       "      <th>...</th>\n",
       "      <th>str2</th>\n",
       "      <th>strat</th>\n",
       "      <th>symptom</th>\n",
       "      <th>treat</th>\n",
       "      <th>offtrt</th>\n",
       "      <th>cd40</th>\n",
       "      <th>cd420</th>\n",
       "      <th>cd80</th>\n",
       "      <th>cd820</th>\n",
       "      <th>infected</th>\n",
       "    </tr>\n",
       "  </thead>\n",
       "  <tbody>\n",
       "    <tr>\n",
       "      <th>0</th>\n",
       "      <td>948</td>\n",
       "      <td>2</td>\n",
       "      <td>48</td>\n",
       "      <td>89.8128</td>\n",
       "      <td>0</td>\n",
       "      <td>0</td>\n",
       "      <td>0</td>\n",
       "      <td>100</td>\n",
       "      <td>0</td>\n",
       "      <td>0</td>\n",
       "      <td>...</td>\n",
       "      <td>0</td>\n",
       "      <td>1</td>\n",
       "      <td>0</td>\n",
       "      <td>1</td>\n",
       "      <td>0</td>\n",
       "      <td>422</td>\n",
       "      <td>477</td>\n",
       "      <td>566</td>\n",
       "      <td>324</td>\n",
       "      <td>0</td>\n",
       "    </tr>\n",
       "    <tr>\n",
       "      <th>1</th>\n",
       "      <td>1002</td>\n",
       "      <td>3</td>\n",
       "      <td>61</td>\n",
       "      <td>49.4424</td>\n",
       "      <td>0</td>\n",
       "      <td>0</td>\n",
       "      <td>0</td>\n",
       "      <td>90</td>\n",
       "      <td>0</td>\n",
       "      <td>1</td>\n",
       "      <td>...</td>\n",
       "      <td>1</td>\n",
       "      <td>3</td>\n",
       "      <td>0</td>\n",
       "      <td>1</td>\n",
       "      <td>0</td>\n",
       "      <td>162</td>\n",
       "      <td>218</td>\n",
       "      <td>392</td>\n",
       "      <td>564</td>\n",
       "      <td>1</td>\n",
       "    </tr>\n",
       "    <tr>\n",
       "      <th>2</th>\n",
       "      <td>961</td>\n",
       "      <td>3</td>\n",
       "      <td>45</td>\n",
       "      <td>88.4520</td>\n",
       "      <td>0</td>\n",
       "      <td>1</td>\n",
       "      <td>1</td>\n",
       "      <td>90</td>\n",
       "      <td>0</td>\n",
       "      <td>1</td>\n",
       "      <td>...</td>\n",
       "      <td>1</td>\n",
       "      <td>3</td>\n",
       "      <td>0</td>\n",
       "      <td>1</td>\n",
       "      <td>1</td>\n",
       "      <td>326</td>\n",
       "      <td>274</td>\n",
       "      <td>2063</td>\n",
       "      <td>1893</td>\n",
       "      <td>0</td>\n",
       "    </tr>\n",
       "    <tr>\n",
       "      <th>3</th>\n",
       "      <td>1166</td>\n",
       "      <td>3</td>\n",
       "      <td>47</td>\n",
       "      <td>85.2768</td>\n",
       "      <td>0</td>\n",
       "      <td>1</td>\n",
       "      <td>0</td>\n",
       "      <td>100</td>\n",
       "      <td>0</td>\n",
       "      <td>1</td>\n",
       "      <td>...</td>\n",
       "      <td>1</td>\n",
       "      <td>3</td>\n",
       "      <td>0</td>\n",
       "      <td>1</td>\n",
       "      <td>0</td>\n",
       "      <td>287</td>\n",
       "      <td>394</td>\n",
       "      <td>1590</td>\n",
       "      <td>966</td>\n",
       "      <td>0</td>\n",
       "    </tr>\n",
       "    <tr>\n",
       "      <th>4</th>\n",
       "      <td>1090</td>\n",
       "      <td>0</td>\n",
       "      <td>43</td>\n",
       "      <td>66.6792</td>\n",
       "      <td>0</td>\n",
       "      <td>1</td>\n",
       "      <td>0</td>\n",
       "      <td>100</td>\n",
       "      <td>0</td>\n",
       "      <td>1</td>\n",
       "      <td>...</td>\n",
       "      <td>1</td>\n",
       "      <td>3</td>\n",
       "      <td>0</td>\n",
       "      <td>0</td>\n",
       "      <td>0</td>\n",
       "      <td>504</td>\n",
       "      <td>353</td>\n",
       "      <td>870</td>\n",
       "      <td>782</td>\n",
       "      <td>0</td>\n",
       "    </tr>\n",
       "  </tbody>\n",
       "</table>\n",
       "<p>5 rows × 23 columns</p>\n",
       "</div>"
      ],
      "text/plain": [
       "   time  trt  age     wtkg  hemo  homo  drugs  karnof  oprior  z30  ...  str2  \\\n",
       "0   948    2   48  89.8128     0     0      0     100       0    0  ...     0   \n",
       "1  1002    3   61  49.4424     0     0      0      90       0    1  ...     1   \n",
       "2   961    3   45  88.4520     0     1      1      90       0    1  ...     1   \n",
       "3  1166    3   47  85.2768     0     1      0     100       0    1  ...     1   \n",
       "4  1090    0   43  66.6792     0     1      0     100       0    1  ...     1   \n",
       "\n",
       "   strat  symptom  treat  offtrt  cd40  cd420  cd80  cd820  infected  \n",
       "0      1        0      1       0   422    477   566    324         0  \n",
       "1      3        0      1       0   162    218   392    564         1  \n",
       "2      3        0      1       1   326    274  2063   1893         0  \n",
       "3      3        0      1       0   287    394  1590    966         0  \n",
       "4      3        0      0       0   504    353   870    782         0  \n",
       "\n",
       "[5 rows x 23 columns]"
      ]
     },
     "execution_count": 275,
     "metadata": {},
     "output_type": "execute_result"
    }
   ],
   "source": [
    "df = pd.read_csv('../Lab 1/AIDS_Classification.csv')\n",
    "df.head()"
   ]
  },
  {
   "cell_type": "code",
   "execution_count": 276,
   "metadata": {},
   "outputs": [],
   "source": [
    "X = df.drop(columns=['infected'])\n",
    "y = df['infected']\n",
    "X = np.array(X)\n",
    "y = np.array(y)\n",
    "object = StandardScaler()\n",
    "X = object.fit_transform(X)"
   ]
  },
  {
   "cell_type": "code",
   "execution_count": 277,
   "metadata": {},
   "outputs": [],
   "source": [
    "from sklearn.model_selection import train_test_split\n",
    "from sklearn.metrics import classification_report\n",
    "from sklearn.metrics import confusion_matrix\n",
    "X_train, X_test, y_train, y_test = train_test_split(X, y, test_size = 0.5, random_state = 40)"
   ]
  },
  {
   "attachments": {},
   "cell_type": "markdown",
   "metadata": {},
   "source": [
    "# Об'єкт Тензор"
   ]
  },
  {
   "cell_type": "code",
   "execution_count": 278,
   "metadata": {},
   "outputs": [
    {
     "name": "stdout",
     "output_type": "stream",
     "text": [
      "TensorFlow version: 2.14.0\n"
     ]
    }
   ],
   "source": [
    "import tensorflow as tf\n",
    "print(\"TensorFlow version:\", tf.__version__)"
   ]
  },
  {
   "cell_type": "code",
   "execution_count": 279,
   "metadata": {},
   "outputs": [
    {
     "name": "stdout",
     "output_type": "stream",
     "text": [
      "tf.Tensor(1, shape=(), dtype=int32)\n",
      "tf.Tensor([[1]], shape=(1, 1), dtype=int32)\n",
      "tf.Tensor([[1 2 3]], shape=(1, 3), dtype=int32)\n",
      "[[1 2 3]]\n"
     ]
    }
   ],
   "source": [
    "a = tf.constant(1)\n",
    "print(a)\n",
    "a = tf.constant(1, shape=(1, 1))\n",
    "print(a)\n",
    "b = tf.constant([[1, 2, 3]])\n",
    "print(b)\n",
    "b1 = b.numpy()\n",
    "print(b1)"
   ]
  },
  {
   "cell_type": "code",
   "execution_count": 280,
   "metadata": {},
   "outputs": [
    {
     "name": "stdout",
     "output_type": "stream",
     "text": [
      "tf.Tensor([[1.]], shape=(1, 1), dtype=float32)\n"
     ]
    }
   ],
   "source": [
    "a1 = tf.cast(a, dtype=tf.float32)\n",
    "print(a1)"
   ]
  },
  {
   "cell_type": "code",
   "execution_count": 281,
   "metadata": {},
   "outputs": [
    {
     "name": "stdout",
     "output_type": "stream",
     "text": [
      "<tf.Variable 'Variable:0' shape=(3,) dtype=int32, numpy=array([1, 2, 3])>\n",
      "<tf.Variable 'Variable:0' shape=(3,) dtype=int32, numpy=array([-1, -2, -3])>\n"
     ]
    }
   ],
   "source": [
    "v = tf.Variable([1, 2, 3])\n",
    "print(v)\n",
    "v.assign([-1, -2, -3])\n",
    "print(v)"
   ]
  },
  {
   "cell_type": "code",
   "execution_count": 282,
   "metadata": {},
   "outputs": [
    {
     "name": "stdout",
     "output_type": "stream",
     "text": [
      "tf.Tensor(\n",
      "[[1. 0. 0.]\n",
      " [0. 1. 0.]\n",
      " [0. 0. 1.]], shape=(3, 3), dtype=float32)\n",
      "[[1. 0. 0.]\n",
      " [0. 1. 0.]\n",
      " [0. 0. 1.]]\n"
     ]
    }
   ],
   "source": [
    "a = tf.eye(3, 3)\n",
    "print(a)\n",
    "a1 = np.eye(3, 3)\n",
    "print(a1)"
   ]
  },
  {
   "cell_type": "code",
   "execution_count": 283,
   "metadata": {},
   "outputs": [
    {
     "name": "stdout",
     "output_type": "stream",
     "text": [
      "tf.Tensor(\n",
      "[[0. 0. 0.]\n",
      " [0. 0. 0.]\n",
      " [0. 0. 0.]], shape=(3, 3), dtype=float32)\n",
      "[[0. 0. 0.]\n",
      " [0. 0. 0.]\n",
      " [0. 0. 0.]]\n",
      "tf.Tensor(\n",
      "[[0. 0. 0.]\n",
      " [0. 0. 0.]\n",
      " [0. 0. 0.]], shape=(3, 3), dtype=float32)\n",
      "tf.Tensor(\n",
      "[[0. 0. 0.]\n",
      " [0. 0. 0.]\n",
      " [0. 0. 0.]], shape=(3, 3), dtype=float32)\n"
     ]
    }
   ],
   "source": [
    "a = tf.zeros((3, 3))\n",
    "print(a)\n",
    "a1 = np.zeros((3, 3))\n",
    "print(a1)\n",
    "b = tf.zeros_like(a)\n",
    "print(b)\n",
    "b1 = tf.identity(b)\n",
    "print(b1)"
   ]
  },
  {
   "cell_type": "code",
   "execution_count": 284,
   "metadata": {},
   "outputs": [
    {
     "name": "stdout",
     "output_type": "stream",
     "text": [
      "[-1 -4 -9]\n",
      "[[-1 -2 -3]\n",
      " [-2 -4 -6]\n",
      " [-3 -6 -9]]\n",
      "-14\n",
      "-14\n"
     ]
    }
   ],
   "source": [
    "a = np.array([1, 2, 3])\n",
    "b = np.array([-1, -2, -3])\n",
    "print(a * b)\n",
    "print(np.tensordot(a, b, axes=0))\n",
    "print(np.tensordot(a, b, axes=1))\n",
    "print(np.sum(a * b))"
   ]
  },
  {
   "cell_type": "code",
   "execution_count": 285,
   "metadata": {},
   "outputs": [
    {
     "name": "stdout",
     "output_type": "stream",
     "text": [
      "tf.Tensor([-1 -4 -9], shape=(3,), dtype=int32)\n",
      "tf.Tensor(\n",
      "[[-1 -2 -3]\n",
      " [-2 -4 -6]\n",
      " [-3 -6 -9]], shape=(3, 3), dtype=int32)\n",
      "tf.Tensor(-14, shape=(), dtype=int32)\n",
      "-14\n"
     ]
    }
   ],
   "source": [
    "a = tf.Variable([1, 2, 3])\n",
    "b = tf.Variable([-1, -2, -3])\n",
    "print(a * b)\n",
    "print(tf.tensordot(a, b, axes=0))\n",
    "print(tf.tensordot(a, b, axes=1))\n",
    "print(np.sum(a * b))"
   ]
  },
  {
   "attachments": {},
   "cell_type": "markdown",
   "metadata": {},
   "source": [
    "# Автоматичне диференціювання"
   ]
  },
  {
   "cell_type": "code",
   "execution_count": 286,
   "metadata": {},
   "outputs": [
    {
     "name": "stdout",
     "output_type": "stream",
     "text": [
      "-3.999999999999559e-06\n"
     ]
    }
   ],
   "source": [
    "y = lambda x: x ** 2\n",
    "h = 0.001\n",
    "x_0 = -2\n",
    "diff_y = (y(x_0 + h) - y(x_0 - h)) / 2 * h\n",
    "print(diff_y)"
   ]
  },
  {
   "cell_type": "code",
   "execution_count": 287,
   "metadata": {},
   "outputs": [
    {
     "name": "stdout",
     "output_type": "stream",
     "text": [
      "<tf.Variable 'Variable:0' shape=() dtype=float32, numpy=-2.0>\n",
      "tf.Tensor(4.0, shape=(), dtype=float32)\n",
      "-4.0\n"
     ]
    }
   ],
   "source": [
    "x_0 = tf.Variable(-2.0)\n",
    "print(x_0)\n",
    "with tf.GradientTape() as tape:\n",
    "    y = x_0 ** 2\n",
    "print(y)\n",
    "diff_y = tape.gradient(y, x_0)\n",
    "diff_y = diff_y.numpy()\n",
    "print(diff_y)"
   ]
  },
  {
   "cell_type": "code",
   "execution_count": 288,
   "metadata": {},
   "outputs": [
    {
     "name": "stdout",
     "output_type": "stream",
     "text": [
      "[[-1.3917973  4.794115 ]\n",
      " [-2.7835946  9.58823  ]\n",
      " [-4.175392  14.382345 ]]\n",
      "[-1.3917973  4.794115 ]\n"
     ]
    }
   ],
   "source": [
    "w = tf.Variable(tf.random.normal((3, 2)), name='w')\n",
    "b = tf.Variable(tf.zeros(2, dtype=tf.float32), name='b')\n",
    "x = [[1., 2., 3.]]\n",
    "\n",
    "with tf.GradientTape(persistent=True) as tape:\n",
    "  y = x @ w + b\n",
    "  l = tf.reduce_mean(y**2)\n",
    "\n",
    "dl_dw, dl_db = tape.gradient(l, [w, b])\n",
    "print(dl_dw.numpy(), dl_db.numpy(), sep='\\n')\n",
    "\n",
    "del tape"
   ]
  },
  {
   "attachments": {},
   "cell_type": "markdown",
   "metadata": {},
   "source": [
    "# Градієнтні алгоритми оптимізації"
   ]
  },
  {
   "cell_type": "code",
   "execution_count": null,
   "metadata": {},
   "outputs": [],
   "source": []
  },
  {
   "cell_type": "code",
   "execution_count": null,
   "metadata": {},
   "outputs": [],
   "source": []
  },
  {
   "cell_type": "code",
   "execution_count": null,
   "metadata": {},
   "outputs": [],
   "source": []
  },
  {
   "cell_type": "code",
   "execution_count": 289,
   "metadata": {},
   "outputs": [],
   "source": [
    "from tensorflow.keras.models import Sequential\n",
    "from tensorflow.keras.layers import Dense\n",
    "from tensorflow.keras.optimizers import Adam\n",
    "from tensorflow.keras.losses import BinaryCrossentropy\n",
    "from tensorflow.keras.metrics import Accuracy"
   ]
  },
  {
   "cell_type": "code",
   "execution_count": 290,
   "metadata": {},
   "outputs": [],
   "source": [
    "model = Sequential([\n",
    "    Dense(100, activation=\"relu\", input_shape=(X_train.shape[1],)),  \n",
    "    Dense(100, activation=\"relu\"),  \n",
    "    Dense(1, activation=\"sigmoid\")\n",
    "])"
   ]
  },
  {
   "cell_type": "code",
   "execution_count": 291,
   "metadata": {},
   "outputs": [],
   "source": [
    "model.compile(\n",
    "    optimizer=Adam(learning_rate=0.001),\n",
    "    loss=BinaryCrossentropy(),\n",
    "    metrics=[\"accuracy\"]\n",
    ")"
   ]
  },
  {
   "cell_type": "code",
   "execution_count": 292,
   "metadata": {},
   "outputs": [
    {
     "name": "stdout",
     "output_type": "stream",
     "text": [
      "Epoch 1/35\n",
      "34/34 [==============================] - 2s 13ms/step - loss: 0.5386 - accuracy: 0.7259 - val_loss: 0.4641 - val_accuracy: 0.7813\n",
      "Epoch 2/35\n",
      "34/34 [==============================] - 0s 5ms/step - loss: 0.4149 - accuracy: 0.8026 - val_loss: 0.4018 - val_accuracy: 0.8112\n",
      "Epoch 3/35\n",
      "34/34 [==============================] - 0s 5ms/step - loss: 0.3652 - accuracy: 0.8316 - val_loss: 0.3703 - val_accuracy: 0.8346\n",
      "Epoch 4/35\n",
      "34/34 [==============================] - 0s 6ms/step - loss: 0.3368 - accuracy: 0.8466 - val_loss: 0.3538 - val_accuracy: 0.8439\n",
      "Epoch 5/35\n",
      "34/34 [==============================] - 0s 5ms/step - loss: 0.3123 - accuracy: 0.8559 - val_loss: 0.3399 - val_accuracy: 0.8486\n",
      "Epoch 6/35\n",
      "34/34 [==============================] - 0s 5ms/step - loss: 0.2947 - accuracy: 0.8709 - val_loss: 0.3288 - val_accuracy: 0.8607\n",
      "Epoch 7/35\n",
      "34/34 [==============================] - 0s 5ms/step - loss: 0.2775 - accuracy: 0.8803 - val_loss: 0.3243 - val_accuracy: 0.8626\n",
      "Epoch 8/35\n",
      "34/34 [==============================] - 0s 5ms/step - loss: 0.2627 - accuracy: 0.8887 - val_loss: 0.3168 - val_accuracy: 0.8664\n",
      "Epoch 9/35\n",
      "34/34 [==============================] - 0s 5ms/step - loss: 0.2514 - accuracy: 0.8934 - val_loss: 0.3120 - val_accuracy: 0.8720\n",
      "Epoch 10/35\n",
      "34/34 [==============================] - 0s 5ms/step - loss: 0.2401 - accuracy: 0.8962 - val_loss: 0.3098 - val_accuracy: 0.8720\n",
      "Epoch 11/35\n",
      "34/34 [==============================] - 0s 5ms/step - loss: 0.2299 - accuracy: 0.9036 - val_loss: 0.3060 - val_accuracy: 0.8692\n",
      "Epoch 12/35\n",
      "34/34 [==============================] - 0s 5ms/step - loss: 0.2197 - accuracy: 0.9121 - val_loss: 0.3040 - val_accuracy: 0.8748\n",
      "Epoch 13/35\n",
      "34/34 [==============================] - 0s 3ms/step - loss: 0.2115 - accuracy: 0.9158 - val_loss: 0.3033 - val_accuracy: 0.8766\n",
      "Epoch 14/35\n",
      "34/34 [==============================] - 0s 3ms/step - loss: 0.2023 - accuracy: 0.9177 - val_loss: 0.3023 - val_accuracy: 0.8794\n",
      "Epoch 15/35\n",
      "34/34 [==============================] - 0s 3ms/step - loss: 0.1930 - accuracy: 0.9224 - val_loss: 0.3035 - val_accuracy: 0.8748\n",
      "Epoch 16/35\n",
      "34/34 [==============================] - 0s 3ms/step - loss: 0.1867 - accuracy: 0.9261 - val_loss: 0.3067 - val_accuracy: 0.8766\n",
      "Epoch 17/35\n",
      "34/34 [==============================] - 0s 3ms/step - loss: 0.1807 - accuracy: 0.9298 - val_loss: 0.3089 - val_accuracy: 0.8785\n",
      "Epoch 18/35\n",
      "34/34 [==============================] - 0s 3ms/step - loss: 0.1743 - accuracy: 0.9280 - val_loss: 0.3063 - val_accuracy: 0.8804\n",
      "Epoch 19/35\n",
      "34/34 [==============================] - 0s 3ms/step - loss: 0.1654 - accuracy: 0.9420 - val_loss: 0.3079 - val_accuracy: 0.8832\n",
      "Epoch 20/35\n",
      "34/34 [==============================] - 0s 3ms/step - loss: 0.1600 - accuracy: 0.9420 - val_loss: 0.3113 - val_accuracy: 0.8850\n",
      "Epoch 21/35\n",
      "34/34 [==============================] - 0s 3ms/step - loss: 0.1561 - accuracy: 0.9457 - val_loss: 0.3157 - val_accuracy: 0.8822\n",
      "Epoch 22/35\n",
      "34/34 [==============================] - 0s 3ms/step - loss: 0.1516 - accuracy: 0.9448 - val_loss: 0.3213 - val_accuracy: 0.8813\n",
      "Epoch 23/35\n",
      "34/34 [==============================] - 0s 3ms/step - loss: 0.1453 - accuracy: 0.9504 - val_loss: 0.3226 - val_accuracy: 0.8869\n",
      "Epoch 24/35\n",
      "34/34 [==============================] - 0s 3ms/step - loss: 0.1400 - accuracy: 0.9542 - val_loss: 0.3241 - val_accuracy: 0.8860\n",
      "Epoch 25/35\n",
      "34/34 [==============================] - 0s 3ms/step - loss: 0.1341 - accuracy: 0.9570 - val_loss: 0.3337 - val_accuracy: 0.8785\n",
      "Epoch 26/35\n",
      "34/34 [==============================] - 0s 3ms/step - loss: 0.1291 - accuracy: 0.9626 - val_loss: 0.3338 - val_accuracy: 0.8850\n",
      "Epoch 27/35\n",
      "34/34 [==============================] - 0s 3ms/step - loss: 0.1251 - accuracy: 0.9598 - val_loss: 0.3389 - val_accuracy: 0.8822\n",
      "Epoch 28/35\n",
      "34/34 [==============================] - 0s 3ms/step - loss: 0.1211 - accuracy: 0.9588 - val_loss: 0.3416 - val_accuracy: 0.8869\n",
      "Epoch 29/35\n",
      "34/34 [==============================] - 0s 3ms/step - loss: 0.1187 - accuracy: 0.9598 - val_loss: 0.3471 - val_accuracy: 0.8794\n",
      "Epoch 30/35\n",
      "34/34 [==============================] - 0s 3ms/step - loss: 0.1134 - accuracy: 0.9616 - val_loss: 0.3501 - val_accuracy: 0.8822\n",
      "Epoch 31/35\n",
      "34/34 [==============================] - 0s 3ms/step - loss: 0.1090 - accuracy: 0.9663 - val_loss: 0.3569 - val_accuracy: 0.8804\n",
      "Epoch 32/35\n",
      "34/34 [==============================] - 0s 3ms/step - loss: 0.1070 - accuracy: 0.9626 - val_loss: 0.3709 - val_accuracy: 0.8785\n",
      "Epoch 33/35\n",
      "34/34 [==============================] - 0s 3ms/step - loss: 0.1028 - accuracy: 0.9701 - val_loss: 0.3680 - val_accuracy: 0.8841\n",
      "Epoch 34/35\n",
      "34/34 [==============================] - 0s 3ms/step - loss: 0.0989 - accuracy: 0.9682 - val_loss: 0.3754 - val_accuracy: 0.8822\n",
      "Epoch 35/35\n",
      "34/34 [==============================] - 0s 3ms/step - loss: 0.0953 - accuracy: 0.9719 - val_loss: 0.3864 - val_accuracy: 0.8813\n"
     ]
    }
   ],
   "source": [
    "model.fit(\n",
    "    X_train, y_train,\n",
    "    validation_data=(X_test, y_test),\n",
    "    epochs=35,\n",
    "    batch_size=32\n",
    ")"
   ]
  },
  {
   "cell_type": "code",
   "execution_count": 293,
   "metadata": {},
   "outputs": [
    {
     "name": "stdout",
     "output_type": "stream",
     "text": [
      "34/34 [==============================] - 0s 1ms/step - loss: 0.3864 - accuracy: 0.8813\n",
      "Test Loss: 0.3864\n",
      "Test Accuracy: 0.8813\n"
     ]
    }
   ],
   "source": [
    "loss, accuracy = model.evaluate(X_test, y_test)\n",
    "print(f\"Test Loss: {loss:.4f}\")\n",
    "print(f\"Test Accuracy: {accuracy:.4f}\")"
   ]
  },
  {
   "attachments": {},
   "cell_type": "markdown",
   "metadata": {},
   "source": [
    "2. Згорткові нейронні мережі"
   ]
  },
  {
   "attachments": {},
   "cell_type": "markdown",
   "metadata": {},
   "source": [
    "Вирішіть завдання класифікації зображень за допомогою згорткової (convolutional) нейромережі двома способами:"
   ]
  },
  {
   "attachments": {},
   "cell_type": "markdown",
   "metadata": {},
   "source": [
    "а. навчить мережу з нуля (from scratch)"
   ]
  },
  {
   "attachments": {},
   "cell_type": "markdown",
   "metadata": {},
   "source": [
    "б. застосуйте перенесення навчання (transfer learning from pre-trained weights)"
   ]
  },
  {
   "attachments": {},
   "cell_type": "markdown",
   "metadata": {},
   "source": [
    "Порівняйте результати (якщо в обраному датасеті класів забагато, достатньо залишити 3-5)."
   ]
  },
  {
   "cell_type": "code",
   "execution_count": 294,
   "metadata": {},
   "outputs": [],
   "source": [
    "from tensorflow.keras.layers import Conv2D, MaxPooling2D, Flatten, Dense, Dropout\n",
    "from tensorflow.keras.applications import VGG16\n",
    "from tensorflow.keras.preprocessing.image import ImageDataGenerator\n",
    "from tensorflow.keras.utils import to_categorical"
   ]
  },
  {
   "cell_type": "code",
   "execution_count": 297,
   "metadata": {},
   "outputs": [],
   "source": [
    "(x_train, y_train), (x_test, y_test) = tf.keras.datasets.cifar10.load_data()\n",
    "selected_classes = [0, 1, 3]\n",
    "mask_train = np.isin(y_train, selected_classes)\n",
    "mask_test = np.isin(y_test, selected_classes)\n",
    "x_train, y_train = x_train[mask_train.flatten()], y_train[mask_train.flatten()]\n",
    "x_test, y_test = x_test[mask_test.flatten()], y_test[mask_test.flatten()]\n",
    "class_mapping = {0: 0, 1: 1, 3: 2}  # airplane -> 0, car -> 1, cat -> 2\n",
    "y_train = np.array([class_mapping[label[0]] for label in y_train])\n",
    "y_test = np.array([class_mapping[label[0]] for label in y_test])\n",
    "x_train, x_test = x_train / 255.0, x_test / 255.0\n",
    "y_train = to_categorical(y_train, num_classes=3)\n",
    "y_test = to_categorical(y_test, num_classes=3)"
   ]
  },
  {
   "cell_type": "code",
   "execution_count": 298,
   "metadata": {},
   "outputs": [],
   "source": [
    "model_from_scratch = Sequential([\n",
    "    Conv2D(32, (3, 3), activation='relu', input_shape=(32, 32, 3)),\n",
    "    MaxPooling2D((2, 2)),\n",
    "    Conv2D(64, (3, 3), activation='relu'),\n",
    "    MaxPooling2D((2, 2)),\n",
    "    Flatten(),\n",
    "    Dense(128, activation='relu'),\n",
    "    Dropout(0.5),\n",
    "    Dense(3, activation='softmax')\n",
    "])"
   ]
  },
  {
   "cell_type": "code",
   "execution_count": 299,
   "metadata": {},
   "outputs": [],
   "source": [
    "model_from_scratch.compile(optimizer='adam',\n",
    "                           loss='categorical_crossentropy',\n",
    "                           metrics=['accuracy'])"
   ]
  },
  {
   "cell_type": "code",
   "execution_count": 300,
   "metadata": {},
   "outputs": [
    {
     "name": "stdout",
     "output_type": "stream",
     "text": [
      "Epoch 1/10\n",
      "469/469 [==============================] - 15s 26ms/step - loss: 0.5833 - accuracy: 0.7636 - val_loss: 0.4109 - val_accuracy: 0.8407\n",
      "Epoch 2/10\n",
      "469/469 [==============================] - 12s 26ms/step - loss: 0.3897 - accuracy: 0.8546 - val_loss: 0.3255 - val_accuracy: 0.8750\n",
      "Epoch 3/10\n",
      "469/469 [==============================] - 12s 26ms/step - loss: 0.3328 - accuracy: 0.8766 - val_loss: 0.2950 - val_accuracy: 0.8907\n",
      "Epoch 4/10\n",
      "469/469 [==============================] - 12s 25ms/step - loss: 0.2921 - accuracy: 0.8916 - val_loss: 0.2691 - val_accuracy: 0.9023\n",
      "Epoch 5/10\n",
      "469/469 [==============================] - 11s 24ms/step - loss: 0.2587 - accuracy: 0.9028 - val_loss: 0.2685 - val_accuracy: 0.9040\n",
      "Epoch 6/10\n",
      "469/469 [==============================] - 12s 26ms/step - loss: 0.2328 - accuracy: 0.9160 - val_loss: 0.2615 - val_accuracy: 0.9067\n",
      "Epoch 7/10\n",
      "469/469 [==============================] - 13s 27ms/step - loss: 0.2023 - accuracy: 0.9271 - val_loss: 0.2546 - val_accuracy: 0.9087\n",
      "Epoch 8/10\n",
      "469/469 [==============================] - 12s 26ms/step - loss: 0.1851 - accuracy: 0.9326 - val_loss: 0.2762 - val_accuracy: 0.8990\n",
      "Epoch 9/10\n",
      "469/469 [==============================] - 12s 25ms/step - loss: 0.1641 - accuracy: 0.9413 - val_loss: 0.2599 - val_accuracy: 0.9110\n",
      "Epoch 10/10\n",
      "469/469 [==============================] - 12s 25ms/step - loss: 0.1506 - accuracy: 0.9443 - val_loss: 0.2578 - val_accuracy: 0.9137\n"
     ]
    }
   ],
   "source": [
    "history_scratch = model_from_scratch.fit(\n",
    "    x_train, y_train,\n",
    "    validation_data=(x_test, y_test),\n",
    "    epochs=10,\n",
    "    batch_size=32\n",
    ")"
   ]
  },
  {
   "attachments": {},
   "cell_type": "markdown",
   "metadata": {},
   "source": [
    "# Перенесення навчання (VGG16)"
   ]
  },
  {
   "cell_type": "code",
   "execution_count": 301,
   "metadata": {},
   "outputs": [
    {
     "name": "stdout",
     "output_type": "stream",
     "text": [
      "Downloading data from https://storage.googleapis.com/tensorflow/keras-applications/vgg16/vgg16_weights_tf_dim_ordering_tf_kernels_notop.h5\n",
      "58889256/58889256 [==============================] - 8s 0us/step\n"
     ]
    }
   ],
   "source": [
    "base_model = VGG16(weights='imagenet', include_top=False, input_shape=(32, 32, 3))"
   ]
  },
  {
   "cell_type": "code",
   "execution_count": 305,
   "metadata": {},
   "outputs": [
    {
     "name": "stdout",
     "output_type": "stream",
     "text": [
      "Epoch 1/5\n",
      "469/469 [==============================] - 78s 163ms/step - loss: 0.5546 - accuracy: 0.7737 - val_loss: 0.4371 - val_accuracy: 0.8257\n",
      "Epoch 2/5\n",
      "469/469 [==============================] - 76s 163ms/step - loss: 0.4366 - accuracy: 0.8313 - val_loss: 0.4043 - val_accuracy: 0.8413\n",
      "Epoch 3/5\n",
      "469/469 [==============================] - 77s 164ms/step - loss: 0.4069 - accuracy: 0.8423 - val_loss: 0.3837 - val_accuracy: 0.8473\n",
      "Epoch 4/5\n",
      "469/469 [==============================] - 76s 162ms/step - loss: 0.3839 - accuracy: 0.8515 - val_loss: 0.3741 - val_accuracy: 0.8510\n",
      "Epoch 5/5\n",
      "469/469 [==============================] - 76s 163ms/step - loss: 0.3712 - accuracy: 0.8585 - val_loss: 0.3713 - val_accuracy: 0.8483\n"
     ]
    }
   ],
   "source": [
    "for layer in base_model.layers:\n",
    "    layer.trainable = False\n",
    "\n",
    "model_transfer = Sequential([\n",
    "    base_model,\n",
    "    Flatten(),\n",
    "    Dense(128, activation='relu'),\n",
    "    Dropout(0.5),\n",
    "    Dense(3, activation='softmax')\n",
    "])\n",
    "model_transfer.compile(optimizer='adam',\n",
    "                       loss='categorical_crossentropy',\n",
    "                       metrics=['accuracy'])\n",
    "history_transfer = model_transfer.fit(\n",
    "    x_train, y_train,\n",
    "    validation_data=(x_test, y_test),\n",
    "    epochs=5,\n",
    "    batch_size=32\n",
    ")"
   ]
  },
  {
   "cell_type": "code",
   "execution_count": 306,
   "metadata": {},
   "outputs": [
    {
     "name": "stdout",
     "output_type": "stream",
     "text": [
      "Model from Scratch: Accuracy = 0.9137, Loss = 0.2578\n",
      "Transfer Learning: Accuracy = 0.8483, Loss = 0.3713\n"
     ]
    }
   ],
   "source": [
    "loss_scratch, acc_scratch = model_from_scratch.evaluate(x_test, y_test, verbose=0)\n",
    "loss_transfer, acc_transfer = model_transfer.evaluate(x_test, y_test, verbose=0)\n",
    "\n",
    "print(f\"Model from Scratch: Accuracy = {acc_scratch:.4f}, Loss = {loss_scratch:.4f}\")\n",
    "print(f\"Transfer Learning: Accuracy = {acc_transfer:.4f}, Loss = {loss_transfer:.4f}\")"
   ]
  },
  {
   "attachments": {},
   "cell_type": "markdown",
   "metadata": {},
   "source": [
    "3. Рекурентні нейронні мережі"
   ]
  },
  {
   "attachments": {},
   "cell_type": "markdown",
   "metadata": {},
   "source": [
    "Вирішіть задачу класифікації текстів (з якими ви працювали в лабораторній № 2) за допомогою рекурентної нейромережі двома способами:"
   ]
  },
  {
   "attachments": {},
   "cell_type": "markdown",
   "metadata": {},
   "source": [
    "а) навчить мережу і embedding шар з нуля (from scratch)"
   ]
  },
  {
   "attachments": {},
   "cell_type": "markdown",
   "metadata": {},
   "source": [
    "б) використовуючи pretrained word embeddings"
   ]
  },
  {
   "attachments": {},
   "cell_type": "markdown",
   "metadata": {},
   "source": [
    " Результати порівняйте між собою і з одержаними раніш. "
   ]
  },
  {
   "cell_type": "code",
   "execution_count": 307,
   "metadata": {},
   "outputs": [],
   "source": [
    "from tensorflow.keras.layers import Embedding, LSTM, Dense, Dropout, Bidirectional\n",
    "from tensorflow.keras.preprocessing.text import Tokenizer\n",
    "from tensorflow.keras.preprocessing.sequence import pad_sequences\n",
    "from sklearn.preprocessing import LabelEncoder\n",
    "from tensorflow.keras.utils import to_categorical"
   ]
  },
  {
   "cell_type": "code",
   "execution_count": 308,
   "metadata": {},
   "outputs": [
    {
     "data": {
      "text/html": [
       "<div>\n",
       "<style scoped>\n",
       "    .dataframe tbody tr th:only-of-type {\n",
       "        vertical-align: middle;\n",
       "    }\n",
       "\n",
       "    .dataframe tbody tr th {\n",
       "        vertical-align: top;\n",
       "    }\n",
       "\n",
       "    .dataframe thead th {\n",
       "        text-align: right;\n",
       "    }\n",
       "</style>\n",
       "<table border=\"1\" class=\"dataframe\">\n",
       "  <thead>\n",
       "    <tr style=\"text-align: right;\">\n",
       "      <th></th>\n",
       "      <th>Question_No</th>\n",
       "      <th>Question</th>\n",
       "      <th>Acceptance</th>\n",
       "      <th>isPremium</th>\n",
       "      <th>Difficulty</th>\n",
       "      <th>Question_Link</th>\n",
       "      <th>Solution</th>\n",
       "    </tr>\n",
       "  </thead>\n",
       "  <tbody>\n",
       "    <tr>\n",
       "      <th>0</th>\n",
       "      <td>1</td>\n",
       "      <td>Two Sum</td>\n",
       "      <td>53.80%</td>\n",
       "      <td>False</td>\n",
       "      <td>Easy</td>\n",
       "      <td>https://leetcode.com/problems/two-sum/description</td>\n",
       "      <td>https://leetcode.com/problems/two-sum/solutions</td>\n",
       "    </tr>\n",
       "    <tr>\n",
       "      <th>1</th>\n",
       "      <td>2</td>\n",
       "      <td>Add Two Numbers</td>\n",
       "      <td>44.10%</td>\n",
       "      <td>False</td>\n",
       "      <td>Medium</td>\n",
       "      <td>https://leetcode.com/problems/add-two-numbers/...</td>\n",
       "      <td>https://leetcode.com/problems/add-two-numbers/...</td>\n",
       "    </tr>\n",
       "    <tr>\n",
       "      <th>2</th>\n",
       "      <td>3</td>\n",
       "      <td>Longest Substring Without Repeating Characters</td>\n",
       "      <td>35.40%</td>\n",
       "      <td>False</td>\n",
       "      <td>Medium</td>\n",
       "      <td>https://leetcode.com/problems/longest-substrin...</td>\n",
       "      <td>https://leetcode.com/problems/longest-substrin...</td>\n",
       "    </tr>\n",
       "    <tr>\n",
       "      <th>3</th>\n",
       "      <td>4</td>\n",
       "      <td>Median of Two Sorted Arrays</td>\n",
       "      <td>41.50%</td>\n",
       "      <td>False</td>\n",
       "      <td>Hard</td>\n",
       "      <td>https://leetcode.com/problems/median-of-two-so...</td>\n",
       "      <td>https://leetcode.com/problems/median-of-two-so...</td>\n",
       "    </tr>\n",
       "    <tr>\n",
       "      <th>4</th>\n",
       "      <td>5</td>\n",
       "      <td>Longest Palindromic Substring</td>\n",
       "      <td>34.40%</td>\n",
       "      <td>False</td>\n",
       "      <td>Medium</td>\n",
       "      <td>https://leetcode.com/problems/longest-palindro...</td>\n",
       "      <td>https://leetcode.com/problems/longest-palindro...</td>\n",
       "    </tr>\n",
       "  </tbody>\n",
       "</table>\n",
       "</div>"
      ],
      "text/plain": [
       "   Question_No                                         Question Acceptance  \\\n",
       "0            1                                          Two Sum     53.80%   \n",
       "1            2                                  Add Two Numbers     44.10%   \n",
       "2            3   Longest Substring Without Repeating Characters     35.40%   \n",
       "3            4                      Median of Two Sorted Arrays     41.50%   \n",
       "4            5                    Longest Palindromic Substring     34.40%   \n",
       "\n",
       "   isPremium Difficulty                                      Question_Link  \\\n",
       "0      False       Easy  https://leetcode.com/problems/two-sum/description   \n",
       "1      False     Medium  https://leetcode.com/problems/add-two-numbers/...   \n",
       "2      False     Medium  https://leetcode.com/problems/longest-substrin...   \n",
       "3      False       Hard  https://leetcode.com/problems/median-of-two-so...   \n",
       "4      False     Medium  https://leetcode.com/problems/longest-palindro...   \n",
       "\n",
       "                                            Solution  \n",
       "0    https://leetcode.com/problems/two-sum/solutions  \n",
       "1  https://leetcode.com/problems/add-two-numbers/...  \n",
       "2  https://leetcode.com/problems/longest-substrin...  \n",
       "3  https://leetcode.com/problems/median-of-two-so...  \n",
       "4  https://leetcode.com/problems/longest-palindro...  "
      ]
     },
     "execution_count": 308,
     "metadata": {},
     "output_type": "execute_result"
    }
   ],
   "source": [
    "df = pd.read_csv('../Lab 2/Leetcode_Questions.csv')\n",
    "df.head()"
   ]
  },
  {
   "cell_type": "code",
   "execution_count": 309,
   "metadata": {},
   "outputs": [],
   "source": [
    "label_encoder = LabelEncoder()\n",
    "df[\"Difficulty\"] = label_encoder.fit_transform(df[\"Difficulty\"])  # Easy=0, Medium=1, Hard=2\n",
    "y = to_categorical(df[\"Difficulty\"])  # One-hot encoding"
   ]
  },
  {
   "cell_type": "code",
   "execution_count": 310,
   "metadata": {},
   "outputs": [],
   "source": [
    "tokenizer = Tokenizer()\n",
    "tokenizer.fit_on_texts(df[\"Question\"])\n",
    "vocab_size = len(tokenizer.word_index) + 1"
   ]
  },
  {
   "cell_type": "code",
   "execution_count": 311,
   "metadata": {},
   "outputs": [],
   "source": [
    "X = tokenizer.texts_to_sequences(df[\"Question\"])\n",
    "max_len = max(len(seq) for seq in X)\n",
    "X = pad_sequences(X, maxlen=max_len, padding=\"post\")"
   ]
  },
  {
   "cell_type": "code",
   "execution_count": 312,
   "metadata": {},
   "outputs": [],
   "source": [
    "X_train, X_test, y_train, y_test = train_test_split(X, y, test_size=0.2, random_state=42)"
   ]
  },
  {
   "cell_type": "code",
   "execution_count": 313,
   "metadata": {},
   "outputs": [],
   "source": [
    "model_from_scratch = Sequential([\n",
    "    Embedding(input_dim=vocab_size, output_dim=50, input_length=max_len),\n",
    "    Bidirectional(LSTM(64, return_sequences=False)),\n",
    "    Dropout(0.5),\n",
    "    Dense(32, activation='relu'),\n",
    "    Dense(3, activation='softmax')\n",
    "])"
   ]
  },
  {
   "cell_type": "code",
   "execution_count": 314,
   "metadata": {},
   "outputs": [],
   "source": [
    "model_from_scratch.compile(optimizer='adam', loss='categorical_crossentropy', metrics=['accuracy'])"
   ]
  },
  {
   "cell_type": "code",
   "execution_count": 315,
   "metadata": {},
   "outputs": [
    {
     "name": "stdout",
     "output_type": "stream",
     "text": [
      "Epoch 1/10\n",
      "146/146 [==============================] - 8s 19ms/step - loss: 1.0321 - accuracy: 0.5210 - val_loss: 1.0123 - val_accuracy: 0.5352\n",
      "Epoch 2/10\n",
      "146/146 [==============================] - 2s 14ms/step - loss: 0.9990 - accuracy: 0.5232 - val_loss: 0.9973 - val_accuracy: 0.5283\n",
      "Epoch 3/10\n",
      "146/146 [==============================] - 2s 13ms/step - loss: 0.8542 - accuracy: 0.6206 - val_loss: 1.0341 - val_accuracy: 0.4786\n",
      "Epoch 4/10\n",
      "146/146 [==============================] - 2s 11ms/step - loss: 0.6416 - accuracy: 0.7408 - val_loss: 1.1344 - val_accuracy: 0.5043\n",
      "Epoch 5/10\n",
      "146/146 [==============================] - 2s 14ms/step - loss: 0.5183 - accuracy: 0.7876 - val_loss: 1.2340 - val_accuracy: 0.4957\n",
      "Epoch 6/10\n",
      "146/146 [==============================] - 2s 14ms/step - loss: 0.4370 - accuracy: 0.8249 - val_loss: 1.3946 - val_accuracy: 0.4768\n",
      "Epoch 7/10\n",
      "146/146 [==============================] - 2s 12ms/step - loss: 0.3888 - accuracy: 0.8455 - val_loss: 1.4507 - val_accuracy: 0.4889\n",
      "Epoch 8/10\n",
      "146/146 [==============================] - 2s 13ms/step - loss: 0.3454 - accuracy: 0.8648 - val_loss: 1.5202 - val_accuracy: 0.5009\n",
      "Epoch 9/10\n",
      "146/146 [==============================] - 2s 14ms/step - loss: 0.3255 - accuracy: 0.8661 - val_loss: 1.6671 - val_accuracy: 0.4906\n",
      "Epoch 10/10\n",
      "146/146 [==============================] - 2s 11ms/step - loss: 0.2916 - accuracy: 0.8828 - val_loss: 1.8379 - val_accuracy: 0.4803\n"
     ]
    },
    {
     "data": {
      "text/plain": [
       "<keras.src.callbacks.History at 0x20fd0cdb610>"
      ]
     },
     "execution_count": 315,
     "metadata": {},
     "output_type": "execute_result"
    }
   ],
   "source": [
    "model_from_scratch.fit(\n",
    "    X_train, y_train,\n",
    "    validation_data=(X_test, y_test),\n",
    "    epochs=10,\n",
    "    batch_size=16\n",
    ")"
   ]
  }
 ],
 "metadata": {
  "kernelspec": {
   "display_name": "Python 3",
   "language": "python",
   "name": "python3"
  },
  "language_info": {
   "codemirror_mode": {
    "name": "ipython",
    "version": 3
   },
   "file_extension": ".py",
   "mimetype": "text/x-python",
   "name": "python",
   "nbconvert_exporter": "python",
   "pygments_lexer": "ipython3",
   "version": "3.10.11"
  },
  "orig_nbformat": 4
 },
 "nbformat": 4,
 "nbformat_minor": 2
}
